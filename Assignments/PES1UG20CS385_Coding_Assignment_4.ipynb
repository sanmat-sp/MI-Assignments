{
  "nbformat": 4,
  "nbformat_minor": 0,
  "metadata": {
    "colab": {
      "provenance": [],
      "collapsed_sections": []
    },
    "kernelspec": {
      "name": "python3",
      "display_name": "Python 3"
    },
    "language_info": {
      "name": "python"
    }
  },
  "cells": [
    {
      "cell_type": "code",
      "execution_count": 3,
      "metadata": {
        "colab": {
          "base_uri": "https://localhost:8080/",
          "height": 1000
        },
        "id": "u-0JCxQnp_TY",
        "outputId": "cbb301c9-2a03-44f7-b443-cce647c4d4f1"
      },
      "outputs": [
        {
          "output_type": "stream",
          "name": "stdout",
          "text": [
            "[<pygad.nn.nn.DenseLayer object at 0x7fb1fbbdb610>, <pygad.nn.nn.DenseLayer object at 0x7fb1fbbdf190>, <pygad.nn.nn.DenseLayer object at 0x7fb1fbbdf290>, <pygad.nn.nn.DenseLayer object at 0x7fb1fbbdf350>, <pygad.nn.nn.DenseLayer object at 0x7fb1fbbdf410>]\n",
            "[array([ 0.05488914,  0.07457812, -0.07975426, -0.02037464,  0.0881107 ,\n",
            "        0.07655314,  0.01761683,  0.06922593]), array([-0.01123014, -0.06296274, -0.00967369, -0.01803878, -0.00384014,\n",
            "       -0.0462732 , -0.03129333,  0.05043389]), array([-0.00941079,  0.01989246,  0.01244252, -0.04349824, -0.01889835,\n",
            "       -0.08901552,  0.09479021,  0.02112617]), array([ 0.04485734,  0.06855675,  0.02520915, -0.04669098,  0.03903069,\n",
            "       -0.03553489,  0.09515667,  0.05615892]), array([ 0.08810711,  0.00607954, -0.0450792 ,  0.07674305, -0.0441211 ,\n",
            "       -0.05898674, -0.06946979,  0.06046657])]\n",
            "Generation = 1\n",
            "Accuracy   = 50.0\n",
            "Generation = 2\n",
            "Accuracy   = 50.0\n",
            "Generation = 3\n",
            "Accuracy   = 50.0\n",
            "Generation = 4\n",
            "Accuracy   = 50.0\n",
            "Generation = 5\n",
            "Accuracy   = 50.0\n",
            "Generation = 6\n",
            "Accuracy   = 50.0\n",
            "Generation = 7\n",
            "Accuracy   = 50.0\n",
            "Generation = 8\n",
            "Accuracy   = 50.0\n",
            "Generation = 9\n",
            "Accuracy   = 50.0\n",
            "Generation = 10\n",
            "Accuracy   = 75.0\n",
            "Generation = 11\n",
            "Accuracy   = 75.0\n",
            "Generation = 12\n",
            "Accuracy   = 75.0\n",
            "Generation = 13\n",
            "Accuracy   = 75.0\n",
            "Generation = 14\n",
            "Accuracy   = 75.0\n",
            "Generation = 15\n",
            "Accuracy   = 75.0\n",
            "Generation = 16\n",
            "Accuracy   = 100.0\n",
            "Generation = 17\n",
            "Accuracy   = 100.0\n",
            "Generation = 18\n",
            "Accuracy   = 100.0\n",
            "Generation = 19\n",
            "Accuracy   = 100.0\n",
            "Generation = 20\n",
            "Accuracy   = 100.0\n",
            "Generation = 21\n",
            "Accuracy   = 100.0\n",
            "Generation = 22\n",
            "Accuracy   = 100.0\n",
            "Generation = 23\n",
            "Accuracy   = 100.0\n",
            "Generation = 24\n",
            "Accuracy   = 100.0\n",
            "Generation = 25\n",
            "Accuracy   = 100.0\n",
            "Generation = 26\n",
            "Accuracy   = 100.0\n",
            "Generation = 27\n",
            "Accuracy   = 100.0\n",
            "Generation = 28\n",
            "Accuracy   = 100.0\n",
            "Generation = 29\n",
            "Accuracy   = 100.0\n",
            "Generation = 30\n",
            "Accuracy   = 100.0\n",
            "Generation = 31\n",
            "Accuracy   = 100.0\n",
            "Generation = 32\n",
            "Accuracy   = 100.0\n",
            "Generation = 33\n",
            "Accuracy   = 100.0\n",
            "Generation = 34\n",
            "Accuracy   = 100.0\n",
            "Generation = 35\n",
            "Accuracy   = 100.0\n",
            "Generation = 36\n",
            "Accuracy   = 100.0\n",
            "Generation = 37\n",
            "Accuracy   = 100.0\n",
            "Generation = 38\n",
            "Accuracy   = 100.0\n",
            "Generation = 39\n",
            "Accuracy   = 100.0\n",
            "Generation = 40\n",
            "Accuracy   = 100.0\n",
            "Generation = 41"
          ]
        },
        {
          "output_type": "stream",
          "name": "stderr",
          "text": [
            "/usr/local/lib/python3.7/dist-packages/pygad/pygad.py:503: UserWarning: The percentage of genes to mutate (mutation_percent_genes=5) resutled in selecting (0) genes. The number of genes to mutate is set to 1 (mutation_num_genes=1).\n",
            "If you do not want to mutate any gene, please set mutation_type=None.\n",
            "  if not self.suppress_warnings: warnings.warn(\"The percentage of genes to mutate (mutation_percent_genes={mutation_percent}) resutled in selecting ({mutation_num}) genes. The number of genes to mutate is set to 1 (mutation_num_genes=1).\\nIf you do not want to mutate any gene, please set mutation_type=None.\".format(mutation_percent=mutation_percent_genes, mutation_num=mutation_num_genes))\n",
            "/usr/local/lib/python3.7/dist-packages/pygad/pygad.py:764: UserWarning: Starting from PyGAD 2.6.0, the callback_generation parameter is deprecated and will be removed in a later release of PyGAD. Please use the on_generation parameter instead.\n",
            "  if not self.suppress_warnings: warnings.warn(\"Starting from PyGAD 2.6.0, the callback_generation parameter is deprecated and will be removed in a later release of PyGAD. Please use the on_generation parameter instead.\")\n"
          ]
        },
        {
          "output_type": "stream",
          "name": "stdout",
          "text": [
            "\n",
            "Accuracy   = 100.0\n",
            "Generation = 42\n",
            "Accuracy   = 100.0\n",
            "Generation = 43\n",
            "Accuracy   = 100.0\n",
            "Generation = 44\n",
            "Accuracy   = 100.0\n",
            "Generation = 45\n",
            "Accuracy   = 100.0\n",
            "Generation = 46\n",
            "Accuracy   = 100.0\n",
            "Generation = 47\n",
            "Accuracy   = 100.0\n",
            "Generation = 48\n",
            "Accuracy   = 100.0\n",
            "Generation = 49\n",
            "Accuracy   = 100.0\n",
            "Generation = 50\n",
            "Accuracy   = 100.0\n"
          ]
        },
        {
          "output_type": "stream",
          "name": "stderr",
          "text": [
            "/usr/local/lib/python3.7/dist-packages/pygad/pygad.py:3345: UserWarning: Please use the plot_fitness() method instead of plot_result(). The plot_result() method will be removed in the future.\n",
            "  warnings.warn(\"Please use the plot_fitness() method instead of plot_result(). The plot_result() method will be removed in the future.\")\n"
          ]
        },
        {
          "output_type": "display_data",
          "data": {
            "text/plain": [
              "<Figure size 432x288 with 1 Axes>"
            ],
            "image/png": "[encoded data removed]"
          },
          "metadata": {
            "needs_background": "light"
          }
        },
        {
          "output_type": "stream",
          "name": "stdout",
          "text": [
            "[ 0.49947988 -0.42101427  0.09564197 -0.90281616 -0.88166488  1.27269054\n",
            "  1.13917509 -1.900312  ]\n",
            "100.0\n",
            "0\n",
            "Predictions of the trained network : [0, 1, 1, 0]\n"
          ]
        }
      ],
      "source": [
        "import numpy\n",
        "import pygad\n",
        "import pygad.nn\n",
        "import pygad.gann\n",
        "\n",
        "def fitness_func(solution, sol_idx):\n",
        "    global GANN_instance, data_inputs, data_outputs\n",
        "\n",
        "    predictions = pygad.nn.predict(last_layer=GANN_instance.population_networks[sol_idx],\n",
        "                                   data_inputs=data_inputs)\n",
        "    correct_predictions = numpy.where(predictions == data_outputs)[0].size\n",
        "    solution_fitness = (correct_predictions/data_outputs.size)*100\n",
        "\n",
        "    return solution_fitness\n",
        "\n",
        "def callback_generation(ga_instance):\n",
        "    global GANN_instance\n",
        "\n",
        "    population_matrices = pygad.gann.population_as_matrices(population_networks=GANN_instance.population_networks, \n",
        "                                                            population_vectors=ga_instance.population)\n",
        "\n",
        "    GANN_instance.update_population_trained_weights(population_trained_weights=population_matrices)\n",
        "\n",
        "    print(\"Generation = {generation}\".format(generation=ga_instance.generations_completed))\n",
        "    print(\"Accuracy   = {fitness}\".format(fitness=ga_instance.best_solution()[1]))\n",
        "\n",
        "data_inputs = numpy.array([[1, 1],\n",
        "                           [1, 0],\n",
        "                           [0, 1],\n",
        "                           [0, 0]])\n",
        "\n",
        "data_outputs = numpy.array([0, \n",
        "                            1, \n",
        "                            1, \n",
        "                            0])\n",
        "\n",
        "\n",
        "GANN_instance = pygad.gann.GANN(num_solutions=5,\n",
        "                                num_neurons_input=2,\n",
        "                                num_neurons_hidden_layers=[2],\n",
        "                                num_neurons_output=2,\n",
        "                                hidden_activations=[\"sigmoid\"],\n",
        "                                output_activation=\"softmax\")\n",
        "print(GANN_instance.population_networks)\n",
        "\n",
        "\n",
        "population_vectors = pygad.gann.population_as_vectors(population_networks=GANN_instance.population_networks)\n",
        "print(population_vectors)\n",
        "\n",
        "\n",
        "ga_instance = pygad.GA(num_generations=50, \n",
        "                       num_parents_mating=3, \n",
        "                       initial_population=population_vectors.copy(),\n",
        "                       fitness_func=fitness_func,\n",
        "                       mutation_percent_genes=5,\n",
        "                       callback_generation=callback_generation)\n",
        "\n",
        "ga_instance.run()\n",
        "\n",
        "ga_instance.plot_result()\n",
        "\n",
        "solution, solution_fitness, solution_idx = ga_instance.best_solution()\n",
        "\n",
        "print(solution)\n",
        "print(solution_fitness)\n",
        "print(solution_idx)\n",
        "\n",
        "predictions = pygad.nn.predict(last_layer=GANN_instance.population_networks[solution_idx],\n",
        "                               data_inputs=data_inputs,\n",
        "                              problem_type=\"classification\")\n",
        "print(\"Predictions of the trained network : {predictions}\".format(predictions=predictions))\n",
        "\n"
      ]
    },
    {
      "cell_type": "code",
      "source": [
        "pip install pygad"
      ],
      "metadata": {
        "colab": {
          "base_uri": "https://localhost:8080/"
        },
        "id": "X6HeUlfEqRnb",
        "outputId": "274fcf54-a91a-4030-e222-c4b04be31264"
      },
      "execution_count": 2,
      "outputs": [
        {
          "output_type": "stream",
          "name": "stdout",
          "text": [
            "Looking in indexes: https://pypi.org/simple, https://us-python.pkg.dev/colab-wheels/public/simple/\n",
            "Collecting pygad\n",
            "  Downloading pygad-2.18.1-py3-none-any.whl (56 kB)\n",
            "\u001b[K     |████████████████████████████████| 56 kB 2.3 MB/s \n",
            "\u001b[?25hRequirement already satisfied: numpy in /usr/local/lib/python3.7/dist-packages (from pygad) (1.21.6)\n",
            "Requirement already satisfied: matplotlib in /usr/local/lib/python3.7/dist-packages (from pygad) (3.2.2)\n",
            "Requirement already satisfied: pyparsing!=2.0.4,!=2.1.2,!=2.1.6,>=2.0.1 in /usr/local/lib/python3.7/dist-packages (from matplotlib->pygad) (3.0.9)\n",
            "Requirement already satisfied: python-dateutil>=2.1 in /usr/local/lib/python3.7/dist-packages (from matplotlib->pygad) (2.8.2)\n",
            "Requirement already satisfied: cycler>=0.10 in /usr/local/lib/python3.7/dist-packages (from matplotlib->pygad) (0.11.0)\n",
            "Requirement already satisfied: kiwisolver>=1.0.1 in /usr/local/lib/python3.7/dist-packages (from matplotlib->pygad) (1.4.4)\n",
            "Requirement already satisfied: typing-extensions in /usr/local/lib/python3.7/dist-packages (from kiwisolver>=1.0.1->matplotlib->pygad) (4.1.1)\n",
            "Requirement already satisfied: six>=1.5 in /usr/local/lib/python3.7/dist-packages (from python-dateutil>=2.1->matplotlib->pygad) (1.15.0)\n",
            "Installing collected packages: pygad\n",
            "Successfully installed pygad-2.18.1\n"
          ]
        }
      ]
    }
  ]
}